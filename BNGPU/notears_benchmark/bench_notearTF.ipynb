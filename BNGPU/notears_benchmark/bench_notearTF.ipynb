{
 "cells": [
  {
   "cell_type": "code",
   "execution_count": 4,
   "metadata": {},
   "outputs": [],
   "source": [
    "import numpy as np\n",
    "import scipy.linalg as slin\n",
    "import networkx as nx\n",
    "import timeit\n",
    "import numpy as np\n",
    "import tensorflow as tf\n",
    "import os\n",
    "os.environ[\"CUDA_DEVICE_ORDER\"]=\"PCI_BUS_ID\"   # see issue #152\n",
    "os.environ[\"CUDA_VISIBLE_DEVICES\"]=\"1\"\n",
    "\n",
    "import sys\n",
    "sys.path.append(os.path.abspath('../benchmark_data/'))\n",
    "sys.path.append(os.path.abspath('../'))\n",
    "import tensorflow as tf\n",
    "import benchmark_data_reader\n",
    "from BNGPU import NOTEARS\n",
    "from time import time\n",
    "from sklearn.metrics import roc_auc_score, average_precision_score\n",
    "import pandas as pd"
   ]
  },
  {
   "cell_type": "code",
   "execution_count": 5,
   "metadata": {},
   "outputs": [],
   "source": [
    "benreader = benchmark_data_reader.BenchmarkReader()"
   ]
  },
  {
   "cell_type": "code",
   "execution_count": null,
   "metadata": {},
   "outputs": [
    {
     "name": "stdout",
     "output_type": "stream",
     "text": [
      "('syntern/DAG1_d100_n100', 100, 100, 26.555632829666138, 0.09465517954044071, 0.7872973725884861)\n",
      "('syntern/DAG1_d100_n500', 100, 500, 25.552894115447998, 0.09004520694109334, 0.8178764705833144)\n",
      "('syntern/DAG1_d100_n1000', 100, 1000, 25.73093819618225, 0.09968598386178396, 0.847401491936732)\n"
     ]
    }
   ],
   "source": [
    "res = []\n",
    "\n",
    "for i in benreader.get_dataset_name():\n",
    "    data = benreader.read_data(i)\n",
    "    W_true = data.W\n",
    "    X = data.data.copy()\n",
    "    #X = benchmark_data_reader.rank_transform(X)\n",
    "    X = benchmark_data_reader.mean_var_normalize(X)\n",
    "    d, n = data.num_gene, data.num_sample\n",
    "    tic = time()\n",
    "        \n",
    "    with tf.device(\"/gpu:0\"):\n",
    "        tf.reset_default_graph()\n",
    "        clf = NOTEARS.NoTearTF()\n",
    "        clf.construct_graph(X)\n",
    "    \n",
    "    sess = tf.Session()\n",
    "    sess.run(clf.graph_nodes['init_vars'])\n",
    "    clf.model_train(sess)\n",
    "        \n",
    "    W_est = sess.run(clf.graph_nodes['weight'])\n",
    "    time_span = time() - tic\n",
    "    \n",
    "    y_pred = np.abs(W_est.ravel())\n",
    "    y_true = np.abs(W_true.ravel()) > 1e-5\n",
    "    \n",
    "    res.append((i, d, n, time() - tic, average_precision_score(y_true, y_pred), roc_auc_score(y_true, y_pred)))\n",
    "    print(i, d, n, time() - tic, average_precision_score(y_true, y_pred), roc_auc_score(y_true, y_pred))\n",
    "    \n",
    "    #df_res = pd.DataFrame(res)\n",
    "    #df_res.columns = ['experiment', 'num_gene', 'num_sample', 'runtime', 'aupr', 'roc']\n",
    "    #df_res.to_csv('results/NOTEARS_benchmark_result.csv', index = False)"
   ]
  },
  {
   "cell_type": "code",
   "execution_count": null,
   "metadata": {},
   "outputs": [],
   "source": []
  }
 ],
 "metadata": {
  "kernelspec": {
   "display_name": "Python 2",
   "language": "python",
   "name": "python2"
  },
  "language_info": {
   "codemirror_mode": {
    "name": "ipython",
    "version": 2
   },
   "file_extension": ".py",
   "mimetype": "text/x-python",
   "name": "python",
   "nbconvert_exporter": "python",
   "pygments_lexer": "ipython2",
   "version": "2.7.12"
  }
 },
 "nbformat": 4,
 "nbformat_minor": 2
}
